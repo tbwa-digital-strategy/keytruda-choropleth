{
 "cells": [
  {
   "cell_type": "code",
   "execution_count": 129,
   "metadata": {},
   "outputs": [],
   "source": [
    "import urllib.request\n",
    "import json\n",
    "from lxml import html\n",
    "from bs4 import BeautifulSoup\n",
    "import requests\n",
    "from pprint import pprint\n",
    "import pandas as pd\n",
    "import re\n",
    "req = requests.get(\"https://blog.feedspot.com/car_youtube_channels/\").text\n",
    "soup = BeautifulSoup(req, \"lxml\")\n",
    "youtube_channels = []\n",
    "for channel in soup.find_all(class_=\"ext\"):\n",
    "    youtube_channels.append(channel.get('href'))\n",
    "\n",
    "# pprint(youtube_channels)\n",
    "mp_df = pd.read_csv('old_mp.csv')\n",
    "\n",
    "\n",
    "\n",
    "michelin_df = pd.read_csv('michelin_panel.csv')\n"
   ]
  },
  {
   "cell_type": "code",
   "execution_count": 126,
   "metadata": {},
   "outputs": [
    {
     "name": "stdout",
     "output_type": "stream",
     "text": [
      "['http://instagram.com/motortrend', '', '', '', 'https://instagram.com/jaylenosgarage/', 'https://www.instagram.com/drive_tv/', '', 'http://instagram.com/LZBMX/', '', 'http://instagram.com/ford', 'http://www.instagram.com/thehoonigans', 'http://instagram.com/saabkyle04llc/', 'http://www.instagram.com/Shmee150', 'http://instagram.com/vehiclevirgins', 'http://instagram.com/yiannimize', 'http://instagram.com/ericthecarguy', '', 'https://instagram.com/salomondrin', 'http://instagram.com/tjhunt_', 'http://instagram.com/thatdudeinblue', 'http://www.instagram.com/thesmokingtire', 'https://www.instagram.com/jrgarageyoutube/', '', 'http://www.instagram.com/thestradman', 'http://www.instagram.com/supercarsoflondon', '', '', '', '', 'https://www.instagram.com/autocar_official/', '', 'http://instagram.com/petrolicious', '', '', 'http://instagram.com/Lamborghini', 'https://instagram.com/carfectionfilms', '', 'https://instagram.com/Porsche/', '', '', 'http://instagram.com/marchettino', 'https://instagram.com/autotopnl/', 'https://www.instagram.com/autoexpressmagazine/', 'http://instagram.com/robdahm#', '', '', '', 'http://instagram.com/redline_reviews', 'https://www.instagram.com/nicknm2255/', 'https://www.instagram.com/mattmaranmotoring', 'http://instagram.com/seenthroughglass', 'https://instagram.com/mrjww/', 'http://instagram.com/honda', '', '', 'http://instagram.com/taylordrifts', '', 'http://instagram.com/gtboard', 'http://instagram.com/toyotausa', '', '', 'http://instagram.com/dailydrivenexotics#', 'http://instagram.com/hotrodmagazine#', 'http://instagram.com/subaru_usa', '', '', 'http://www.instagram.com/alaatin61_', 'https://instagram.com/automanntv', 'https://instagram.com/bugatti/', '', 'http://instagram.com/bmwusa', 'http://instagram.com/sebdelanney', 'http://instagram.com/monkylondon', '', 'https://www.Instagram.com/autotraderuk#', 'http://www.instagram.com/bigkleib34', 'https://www.instagram.com/everymandriver/', 'http://www.instagram.com/archiehamiltonracing', '', 'http://instagram.com/nismo', 'https://www.instagram.com/official_rohityadav/', 'https://www.instagram.com/gommeblog/', 'http://instagram.com/landrover', '', '', '', '', 'http://instagram.com/droppedbaby1', 'https://instagram.com/obsessedgarage', 'https://instagram.com/troysowers', 'http://instagram.com/mclarenauto', 'https://instagram.com/astonmartinlagonda/', '', 'https://www.instagram.com/whatcar_official/', 'https://www.instagram.com/savagegeese_', '', '', 'https://instagram.com/roadshowautos', '', 'https://www.instagram.com/scott_bmw_smith/?hl=en', 'http://instagram.com/jaguar']\n",
      "['https://www.facebook.com/motortrend', 'https://www.facebook.com/topgear', 'http://facebook.com/mightycarmods', 'https://www.facebook.com/chrisfix8', 'http://www.facebook.com/jaylenosgarage', 'https://www.facebook.com/TheDrive', '', 'http://facebook.com/adam.lz.1', '', 'http://www.facebook.com/ford', 'http://www.facebook.com/thehoonigans', 'http://www.facebook.com/pages/saabkyle04/315743567772', 'http://www.facebook.com/Shmee150', 'https://www.facebook.com/vehiclevirgins', 'http://facebook.com/yiannimize', 'https://www.facebook.com/EricTheCarGuy', '', 'https://www.facebook.com/Salomondrin777/', 'https://www.facebook.com/tj.hunt.39', '', 'http://www.facebook.com/thesmokingtire', 'https://www.facebook.com/JRGarageYouTube', '', 'http://www.facebook.com/StradmanPhotography', 'http://www.facebook.com/pages/Supercarsoflondon/168424916549680?sk=wall', 'http://www.facebook.com/GumbalTV', 'http://facebook.com/caranddriver', 'https://www.facebook.com/tflcar', '', 'https://www.facebook.com/autocarofficial/', '', 'http://www.facebook.com/petrolicious', 'https://www.facebook.com/evomagazine', '', 'http://facebook.com/Lamborghini', 'https://www.facebook.com/Carfection', '', 'http://www.facebook.com/porsche', '', 'https://www.facebook.com/CarBuyerUK', 'https://www.facebook.com/MarchettinoYouTube', 'https://www.facebook.com/pages/Autotopnl/142072269184493', 'http://www.facebook.com/AutoExpress', 'http://facebook.com/robertdahm', '', 'https://www.facebook.com/pages/Winding-Road/18921012131', 'http://www.facebook.com/automototube', 'http://www.facebook.com/2Redline', 'https://www.facebook.com/pages/NM2255/258205730865220', 'https://www.facebook.com/mattmaranmotoring', 'https://www.facebook.com/seenthroughglass', 'https://www.facebook.com/mrjww', 'https://facebook.com/honda', '', 'http://www.facebook.com/AutoGuide', '', '', '', 'http://www.facebook.com', '', '', 'https://www.facebook.com/pages/Daily-Driven-Exotic-Cars/345079678933541', 'http://www.facebook.com/hotrodmag', 'https://www.facebook.com/subaruofamerica', 'https://www.facebook.com/jalopnik/', '', 'http://www.facebook.com/alaatin61', 'https://www.facebook.com/AutomannTV', 'http://www.facebook.com/bugatti', 'http://facebook.com/alexonautos', 'https://www.facebook.com/BMWUSA', 'https://www.facebook.com/sebdelanney?ref=hl', 'https://www.facebook.com/MONKYLONDON/', '', 'https://www.facebook.com/autotraderuk', 'http://www.facebook.com/bigkleib34', 'http://www.facebook.com/EverymanDriver', 'https://www.facebook.com/archiehamiltonracingcom/', '', 'http://www.facebook.com/nismo', '', 'http://www.facebook.com/Gommeblog', 'https://www.facebook.com/landrover?ref=hl', '', 'https://www.facebook.com/testdrivenuk', 'https://www.facebook.com/autobytel', 'http://www.facebook.com/carsdotcom', 'https://www.facebook.com/kiwinicktube', 'https://www.facebook.com/pages/Obsessed-Garage/534062626731659?fref=ts', 'https://www.facebook.com/troysowersofficial/', 'http://www.facebook.com/mclarenautomotive', 'http://www.facebook.com/astonmartin', '', 'https://www.facebook.com/whatcar/', 'https://facebook.com/profile.php?id=934299076601572&refid=46&sld=eyJzZWFyY2hfc2lkIjoiYmMyOTAxZTg1YTIxYjU0ZTZhMTVmMGJlZTVlNjI4N2EifQ%3D%3D', 'https://www.facebook.com/pages/Option-Auto/376132156066', '', 'https://www.facebook.com/RoadshowAutos/', '', 'https://www.facebook.com/scottbmwsmith/?ref=hl', 'http://www.facebook.com/Jaguar']\n"
     ]
    }
   ],
   "source": [
    "instagram_links = []\n",
    "facebook_links = []\n",
    "for index, row in df.iterrows():\n",
    "    req = requests.get(row[\"Top Car Channels\"].split('videos')[0]+'about').text\n",
    "    soup = BeautifulSoup(req, \"lxml\")\n",
    "#     print(req.)\n",
    "#     with open(\"Output.txt\", \"w\") as text_file:\n",
    "#         print(soup.contents, file=text_file)\n",
    "    if len(soup.findAll(class_=\"about-channel-link yt-uix-redirect-link about-channel-link-with-icon\", title=\"Instagram\")) > 0:\n",
    "        for link in soup.findAll(class_=\"about-channel-link yt-uix-redirect-link about-channel-link-with-icon\", title=\"Instagram\"):\n",
    "    #         print(link)\n",
    "    #         print(link.get('href'))\n",
    "            instagram_links.append(link.get('href'))\n",
    "    else:\n",
    "        instagram_links.append('')\n",
    "    if len(soup.findAll(class_=\"about-channel-link yt-uix-redirect-link about-channel-link-with-icon\", title=\"Facebook\")) > 0:\n",
    "        for link in soup.findAll(class_=\"about-channel-link yt-uix-redirect-link about-channel-link-with-icon\", title=\"Facebook\"):\n",
    "    #         print(link)\n",
    "    #         print(link.get('href'))\n",
    "            facebook_links.append(link.get('href'))\n",
    "    else:\n",
    "        facebook_links.append('')\n",
    "print(instagram_links)\n",
    "\n",
    "print(facebook_links)"
   ]
  },
  {
   "cell_type": "code",
   "execution_count": 132,
   "metadata": {},
   "outputs": [
    {
     "name": "stdout",
     "output_type": "stream",
     "text": [
      "101\n"
     ]
    }
   ],
   "source": [
    "print(len(facebook_links))\n",
    "df = pd.DataFrame({'Top Car Channels' : youtube_channels, 'Facebook Links':facebook_links, 'Instagram Links' : instagram_links})\n",
    "df.to_csv('michelin_panel.csv', sep=',', encoding='utf-8')"
   ]
  },
  {
   "cell_type": "code",
   "execution_count": null,
   "metadata": {},
   "outputs": [],
   "source": []
  }
 ],
 "metadata": {
  "kernelspec": {
   "display_name": "Python 3",
   "language": "python",
   "name": "python3"
  },
  "language_info": {
   "codemirror_mode": {
    "name": "ipython",
    "version": 3
   },
   "file_extension": ".py",
   "mimetype": "text/x-python",
   "name": "python",
   "nbconvert_exporter": "python",
   "pygments_lexer": "ipython3",
   "version": "3.6.4"
  }
 },
 "nbformat": 4,
 "nbformat_minor": 2
}
