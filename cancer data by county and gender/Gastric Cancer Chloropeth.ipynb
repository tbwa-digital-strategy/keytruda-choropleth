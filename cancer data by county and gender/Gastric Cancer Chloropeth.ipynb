{
 "cells": [
  {
   "cell_type": "code",
   "execution_count": 146,
   "metadata": {},
   "outputs": [],
   "source": [
    "import pandas as pd\n",
    "\n",
    "import glob\n",
    "import plotly.plotly as py\n",
    "import plotly.figure_factory as ff\n",
    "import plotly\n",
    "\n",
    "import numpy as np\n",
    "import pandas as pd"
   ]
  },
  {
   "cell_type": "code",
   "execution_count": 147,
   "metadata": {},
   "outputs": [
    {
     "name": "stdout",
     "output_type": "stream",
     "text": [
      "['incd (1).csv', 'incd (3).csv', 'incd (4).csv', 'incd (5).csv', 'incd (6).csv', 'incd (7).csv', 'incd (8).csv', 'incd (9).csv', 'incd.csv']\n"
     ]
    }
   ],
   "source": [
    "print(glob.glob('incd*.csv'))\n",
    "incd_rate_file_list = glob.glob('incd*.csv')\n",
    "income_data = pd.read_csv('Unemployment.csv')\n",
    "dfs = []"
   ]
  },
  {
   "cell_type": "code",
   "execution_count": 148,
   "metadata": {},
   "outputs": [
    {
     "name": "stdout",
     "output_type": "stream",
     "text": [
      "incd (1).csv\n",
      "incd (3).csv\n",
      "incd (4).csv\n",
      "incd (5).csv\n",
      "incd (6).csv\n",
      "incd (7).csv\n",
      "incd (8).csv\n",
      "incd (9).csv\n",
      "incd.csv\n"
     ]
    }
   ],
   "source": [
    "\n",
    "\n",
    "for incd_rate_file in incd_rate_file_list:\n",
    "    print(incd_rate_file)\n",
    "    \n",
    "    df = pd.read_csv(incd_rate_file)\n",
    "#     print(df['FIPS'])\n",
    "    new_df = pd.merge(income_data, df, on='FIPS', how='left')\n",
    "    dfs.append(new_df)\n",
    "    "
   ]
  },
  {
   "cell_type": "code",
   "execution_count": null,
   "metadata": {},
   "outputs": [
    {
     "name": "stdout",
     "output_type": "stream",
     "text": [
      "Gastric/Female\n",
      "                                       County     FIPS  Average Annual Count\n",
      "213       Los Angeles County, California(7,8)   6037.0                   391\n",
      "627               Cook County, Illinois(6,10)  17031.0                   206\n",
      "3197                        Puerto Rico(6,10)  72001.0                   156\n",
      "1887             Kings County, New York(6,10)  36047.0                   134\n",
      "1904            Queens County, New York(6,10)  36081.0                   126\n",
      "2670               Harris County, Texas(6,10)  48201.0                   112\n",
      "376          Miami-Dade County, Florida(6,10)  12086.0                    95\n",
      "224            Orange County, California(7,8)   6059.0                    92\n",
      "231         San Diego County, California(7,8)   6073.0                    84\n",
      "110            Maricopa County, Arizona(6,10)   4013.0                    83\n",
      "1866             Bronx County, New York(6,10)  36005.0                    72\n",
      "1338              Wayne County, Michigan(7,8)  26163.0                    70\n",
      "2626               Dallas County, Texas(6,10)  48113.0                    67\n",
      "1894          New York County, New York(6,10)  36061.0                    60\n",
      "339             Broward County, Florida(6,10)  12011.0                    59\n",
      "227         Riverside County, California(7,8)   6065.0                    58\n",
      "1893            Nassau County, New York(6,10)  36059.0                    57\n",
      "2336  Philadelphia County, Pennsylvania(6,10)  42101.0                    57\n",
      "237       Santa Clara County, California(7,8)   6085.0                    54\n",
      "2584                Bexar County, Texas(6,10)  48029.0                    52\n"
     ]
    }
   ],
   "source": [
    "plotly.tools.set_credentials_file(username='sigmoidfreud', api_key='l3lbT0NGHJrn4F3Wu5TV')\n",
    "colorscale = [\"#f7fbff\",\"#ebf3fb\",\"#deebf7\",\"#d2e3f3\",\"#c6dbef\",\"#b3d2e9\",\"#9ecae1\",\n",
    "              \"#85bcdb\",\"#6baed6\",\"#57a0ce\",\"#4292c6\",\"#3082be\",\"#2171b5\",\"#1361a9\",\n",
    "              \"#08519c\",\"#0b4083\",\"#08306b\"]\n",
    "\n",
    "endpts = list(np.linspace(1, 12, len(colorscale) - 1))\n",
    "\n",
    "for df in dfs:\n",
    "    fips = df['FIPS'].tolist()\n",
    "    df = df.dropna(subset=['Average Annual Count'])\n",
    "    df.fillna(-1, inplace = True)\n",
    "    df['Average Annual Count'] = df['Average Annual Count'].replace(['3 or fewer'], 0)\n",
    "    df['Average Annual Count'] = df['Average Annual Count'].replace(['∂','∂∂','nan'], -1)\n",
    "\n",
    "#     print(df['Type'].tolist())\n",
    "    unrec_fips_list = [0, 2280, 13999, 51917]\n",
    "    print(df.columns.tolist()[-1])\n",
    "    for unrec_fips in unrec_fips_list:\n",
    "        df = df[df.FIPS != unrec_fips]\n",
    "        \n",
    "    fips = df['FIPS'].tolist()\n",
    "\n",
    "    df['Average Annual Count'] = df['Average Annual Count'].astype(int)\n",
    "    \n",
    "    df = df.sort_values('Average Annual Count', ascending=False)\n",
    "    values = [float(i) for i in df['Average Annual Count'].tolist()]\n",
    "#     print(df['Type'].tolist())\n",
    "    top20 = df.head(20)\n",
    "    print(top20[['County', 'FIPS', 'Average Annual Count']])\n",
    "    fig = ff.create_choropleth(\n",
    "        fips=fips, values=values,\n",
    "        binning_endpoints=endpts,\n",
    "        colorscale=colorscale,\n",
    "        show_state_data=False,\n",
    "        show_hover=True, centroid_marker={'opacity': 0},\n",
    "        asp=2.9, title=df.columns.tolist()[-1],\n",
    "        legend_title='Annual Cases'\n",
    "    )\n",
    "    py.iplot(fig, filename='choropleth_full_usa')"
   ]
  },
  {
   "cell_type": "code",
   "execution_count": null,
   "metadata": {},
   "outputs": [],
   "source": []
  },
  {
   "cell_type": "code",
   "execution_count": null,
   "metadata": {},
   "outputs": [],
   "source": []
  }
 ],
 "metadata": {
  "kernelspec": {
   "display_name": "Python 3",
   "language": "python",
   "name": "python3"
  },
  "language_info": {
   "codemirror_mode": {
    "name": "ipython",
    "version": 3
   },
   "file_extension": ".py",
   "mimetype": "text/x-python",
   "name": "python",
   "nbconvert_exporter": "python",
   "pygments_lexer": "ipython3",
   "version": "3.6.4"
  }
 },
 "nbformat": 4,
 "nbformat_minor": 2
}
