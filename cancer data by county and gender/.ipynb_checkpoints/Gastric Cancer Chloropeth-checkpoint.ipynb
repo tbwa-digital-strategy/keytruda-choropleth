{
 "cells": [
  {
   "cell_type": "code",
   "execution_count": 46,
   "metadata": {},
   "outputs": [],
   "source": [
    "import pandas as pd\n",
    "\n",
    "import glob\n",
    "import plotly.plotly as py\n",
    "import plotly.figure_factory as ff\n",
    "\n",
    "import numpy as np\n",
    "import pandas as pd"
   ]
  },
  {
   "cell_type": "code",
   "execution_count": 47,
   "metadata": {},
   "outputs": [
    {
     "name": "stdout",
     "output_type": "stream",
     "text": [
      "['incd (1).csv', 'incd (2).csv', 'incd (3).csv', 'incd (4).csv', 'incd (5).csv', 'incd (6).csv', 'incd (7).csv', 'incd (8).csv', 'incd.csv']\n"
     ]
    }
   ],
   "source": [
    "print(glob.glob('incd*.csv'))\n",
    "incd_rate_file_list = glob.glob('incd*.csv')\n",
    "income_data = pd.read_csv('Unemployment.csv')\n",
    "dfs = []"
   ]
  },
  {
   "cell_type": "code",
   "execution_count": 48,
   "metadata": {},
   "outputs": [
    {
     "name": "stdout",
     "output_type": "stream",
     "text": [
      "0             8907\n",
      "1              NaN\n",
      "2       3 or fewer\n",
      "3                5\n",
      "4       3 or fewer\n",
      "5       3 or fewer\n",
      "6       3 or fewer\n",
      "7       3 or fewer\n",
      "8       3 or fewer\n",
      "9       3 or fewer\n",
      "10      3 or fewer\n",
      "11      3 or fewer\n",
      "12      3 or fewer\n",
      "13      3 or fewer\n",
      "14      3 or fewer\n",
      "15      3 or fewer\n",
      "16      3 or fewer\n",
      "17      3 or fewer\n",
      "18      3 or fewer\n",
      "19      3 or fewer\n",
      "20      3 or fewer\n",
      "21      3 or fewer\n",
      "22      3 or fewer\n",
      "23      3 or fewer\n",
      "24      3 or fewer\n",
      "25      3 or fewer\n",
      "26      3 or fewer\n",
      "27      3 or fewer\n",
      "28      3 or fewer\n",
      "29      3 or fewer\n",
      "           ...    \n",
      "3441           NaN\n",
      "3442           NaN\n",
      "3443           NaN\n",
      "3444           NaN\n",
      "3445           NaN\n",
      "3446           NaN\n",
      "3447           NaN\n",
      "3448           NaN\n",
      "3449           NaN\n",
      "3450           NaN\n",
      "3451           NaN\n",
      "3452           NaN\n",
      "3453           NaN\n",
      "3454           NaN\n",
      "3455           NaN\n",
      "3456           NaN\n",
      "3457           NaN\n",
      "3458           NaN\n",
      "3459           NaN\n",
      "3460           NaN\n",
      "3461           NaN\n",
      "3462           NaN\n",
      "3463           NaN\n",
      "3464           NaN\n",
      "3465           NaN\n",
      "3466           NaN\n",
      "3467           NaN\n",
      "3468           NaN\n",
      "3469           NaN\n",
      "3470           NaN\n",
      "Name: Average Annual Count, Length: 3471, dtype: object\n"
     ]
    }
   ],
   "source": [
    "\n",
    "\n",
    "for incd_rate_file in incd_rate_file_list:\n",
    "    df = pd.read_csv(incd_rate_file)\n",
    "    dfs.append(pd.merge(income_data, df, on='FIPS', how='left'))\n",
    "    \n",
    "print(dfs[0]['Average Annual Count'])"
   ]
  },
  {
   "cell_type": "code",
   "execution_count": 49,
   "metadata": {},
   "outputs": [
    {
     "ename": "ImportError",
     "evalue": "geopandas, pyshp and shapely must be installed for this figure factory.\n\nRun the following commands to install the correct versions of the following modules:\n\n`pip install geopandas==0.3.0`\n`pip install pyshp==1.2.10`\n`pip install shapely==1.6.3`\n\nIf you are using Windows, follow this post to properly install geopandas and dependencies:http://geoffboeing.com/2014/09/using-geopandas-windows/",
     "output_type": "error",
     "traceback": [
      "\u001b[0;31m---------------------------------------------------------------------------\u001b[0m",
      "\u001b[0;31mImportError\u001b[0m                               Traceback (most recent call last)",
      "\u001b[0;32m<ipython-input-49-2567ca5ed52d>\u001b[0m in \u001b[0;36m<module>\u001b[0;34m()\u001b[0m\n\u001b[1;32m     13\u001b[0m     \u001b[0mshow_hover\u001b[0m\u001b[0;34m=\u001b[0m\u001b[0;32mTrue\u001b[0m\u001b[0;34m,\u001b[0m \u001b[0mcentroid_marker\u001b[0m\u001b[0;34m=\u001b[0m\u001b[0;34m{\u001b[0m\u001b[0;34m'opacity'\u001b[0m\u001b[0;34m:\u001b[0m \u001b[0;36m0\u001b[0m\u001b[0;34m}\u001b[0m\u001b[0;34m,\u001b[0m\u001b[0;34m\u001b[0m\u001b[0m\n\u001b[1;32m     14\u001b[0m     \u001b[0masp\u001b[0m\u001b[0;34m=\u001b[0m\u001b[0;36m2.9\u001b[0m\u001b[0;34m,\u001b[0m \u001b[0mtitle\u001b[0m\u001b[0;34m=\u001b[0m\u001b[0;34m'Female Gastric Cancer Incidence'\u001b[0m\u001b[0;34m,\u001b[0m\u001b[0;34m\u001b[0m\u001b[0m\n\u001b[0;32m---> 15\u001b[0;31m     \u001b[0mlegend_title\u001b[0m\u001b[0;34m=\u001b[0m\u001b[0;34m'Annual Cases'\u001b[0m\u001b[0;34m\u001b[0m\u001b[0m\n\u001b[0m\u001b[1;32m     16\u001b[0m )\n\u001b[1;32m     17\u001b[0m \u001b[0mpy\u001b[0m\u001b[0;34m.\u001b[0m\u001b[0miplot\u001b[0m\u001b[0;34m(\u001b[0m\u001b[0mfig\u001b[0m\u001b[0;34m,\u001b[0m \u001b[0mfilename\u001b[0m\u001b[0;34m=\u001b[0m\u001b[0;34m'choropleth_full_usa'\u001b[0m\u001b[0;34m)\u001b[0m\u001b[0;34m\u001b[0m\u001b[0m\n",
      "\u001b[0;32m/anaconda3/lib/python3.6/site-packages/plotly/figure_factory/_county_choropleth.py\u001b[0m in \u001b[0;36mcreate_choropleth\u001b[0;34m(fips, values, scope, binning_endpoints, colorscale, order, simplify_county, simplify_state, asp, show_hover, show_state_data, state_outline, county_outline, centroid_marker, round_legend_values, exponent_format, legend_title, **layout_options)\u001b[0m\n\u001b[1;32m    563\u001b[0m     \u001b[0;32mif\u001b[0m \u001b[0;32mnot\u001b[0m \u001b[0mgp\u001b[0m \u001b[0;32mor\u001b[0m \u001b[0;32mnot\u001b[0m \u001b[0mshapefile\u001b[0m \u001b[0;32mor\u001b[0m \u001b[0;32mnot\u001b[0m \u001b[0mshapely\u001b[0m\u001b[0;34m:\u001b[0m\u001b[0;34m\u001b[0m\u001b[0m\n\u001b[1;32m    564\u001b[0m         raise ImportError(\n\u001b[0;32m--> 565\u001b[0;31m             \u001b[0;34m\"geopandas, pyshp and shapely must be installed for this figure \"\u001b[0m\u001b[0;34m\u001b[0m\u001b[0m\n\u001b[0m\u001b[1;32m    566\u001b[0m             \u001b[0;34m\"factory.\\n\\nRun the following commands to install the correct \"\u001b[0m\u001b[0;34m\u001b[0m\u001b[0m\n\u001b[1;32m    567\u001b[0m             \u001b[0;34m\"versions of the following modules:\\n\\n\"\u001b[0m\u001b[0;34m\u001b[0m\u001b[0m\n",
      "\u001b[0;31mImportError\u001b[0m: geopandas, pyshp and shapely must be installed for this figure factory.\n\nRun the following commands to install the correct versions of the following modules:\n\n`pip install geopandas==0.3.0`\n`pip install pyshp==1.2.10`\n`pip install shapely==1.6.3`\n\nIf you are using Windows, follow this post to properly install geopandas and dependencies:http://geoffboeing.com/2014/09/using-geopandas-windows/"
     ]
    }
   ],
   "source": [
    "colorscale = [\"#f7fbff\",\"#ebf3fb\",\"#deebf7\",\"#d2e3f3\",\"#c6dbef\",\"#b3d2e9\",\"#9ecae1\",\n",
    "              \"#85bcdb\",\"#6baed6\",\"#57a0ce\",\"#4292c6\",\"#3082be\",\"#2171b5\",\"#1361a9\",\n",
    "              \"#08519c\",\"#0b4083\",\"#08306b\"]\n",
    "\n",
    "endpts = list(np.linspace(1, 12, len(colorscale) - 1))\n",
    "fips = dfs[0]['FIPS'].tolist()\n",
    "values = dfs[0]['Average Annual Count'].tolist()\n",
    "fig = ff.create_choropleth(\n",
    "    fips=fips, values=values,\n",
    "    binning_endpoints=endpts,\n",
    "    colorscale=colorscale,\n",
    "    show_state_data=False,\n",
    "    show_hover=True, centroid_marker={'opacity': 0},\n",
    "    asp=2.9, title='Female Gastric Cancer Incidence',\n",
    "    legend_title='Annual Cases'\n",
    ")\n",
    "py.iplot(fig, filename='choropleth_full_usa')"
   ]
  },
  {
   "cell_type": "code",
   "execution_count": null,
   "metadata": {},
   "outputs": [],
   "source": []
  },
  {
   "cell_type": "code",
   "execution_count": null,
   "metadata": {},
   "outputs": [],
   "source": []
  },
  {
   "cell_type": "code",
   "execution_count": null,
   "metadata": {},
   "outputs": [],
   "source": []
  }
 ],
 "metadata": {
  "kernelspec": {
   "display_name": "Python 3",
   "language": "python",
   "name": "python3"
  },
  "language_info": {
   "codemirror_mode": {
    "name": "ipython",
    "version": 3
   },
   "file_extension": ".py",
   "mimetype": "text/x-python",
   "name": "python",
   "nbconvert_exporter": "python",
   "pygments_lexer": "ipython3",
   "version": "3.6.4"
  }
 },
 "nbformat": 4,
 "nbformat_minor": 2
}
