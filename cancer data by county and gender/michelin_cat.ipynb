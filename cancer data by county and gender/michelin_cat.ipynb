{
 "cells": [
  {
   "cell_type": "code",
   "execution_count": 6,
   "metadata": {},
   "outputs": [],
   "source": [
    "import pandas as pd\n",
    "import json\n",
    "import requests\n",
    "try:\n",
    "    from urllib import urlencode\n",
    "except ImportError:\n",
    "    from urllib.parse import urlencode\n",
    "\n",
    "from base64 import urlsafe_b64encode\n",
    "import hashlib\n",
    "\n",
    "def webshrinker_categories_v3(access_key, secret_key, url=b\"\", params={}):\n",
    "    params['key'] = access_key\n",
    "\n",
    "    request = \"categories/v3/{}?{}\".format(urlsafe_b64encode(url).decode('utf-8'), urlencode(params, True))\n",
    "    request_to_sign = \"{}:{}\".format(secret_key, request).encode('utf-8')\n",
    "    signed_request = hashlib.md5(request_to_sign).hexdigest()\n",
    "\n",
    "    return \"https://api.webshrinker.com/{}&hash={}\".format(request, signed_request)\n",
    "\n",
    "access_key = \"u9BK7yp4mLJ2Ri5WNSBu\"\n",
    "secret_key = \"IBfNwfA3iKz3VDVrW1E4\"\n",
    "\n",
    "categories = {}\n",
    "df = pd.read_excel('michelin_data.xlsx')\n",
    "for url in set(df['Attribute Value'].tolist()):\n",
    "    if url != 'file:':\n",
    "        req_url = url.encode()\n",
    "        req = requests.get(webshrinker_categories_v3(access_key, secret_key, req_url)).json()\n",
    "#         print(req_url)\n",
    "        data = req['data']\n",
    "        for key in data:\n",
    "            for cat in key['categories']:\n",
    "    #             print(cat['label'])\n",
    "                categories[url] = cat['label']\n",
    "                break\n",
    "    else:\n",
    "#         print(req_url)\n",
    "        categories[url] = 'N/A'\n",
    "dict_list = []\n",
    "        \n",
    "for dic in df.T.to_dict().values():\n",
    "    dat = dic\n",
    "    dat['category'] = categories[dat['Attribute Value']]\n",
    "    dict_list.append(dat)\n",
    "                      \n",
    "df = pd.DataFrame.from_records(dict_list)"
   ]
  },
  {
   "cell_type": "code",
   "execution_count": 8,
   "metadata": {},
   "outputs": [],
   "source": [
    "df.to_csv('michelin_axciom_data.csv', sep=',', encoding='utf-8')"
   ]
  }
 ],
 "metadata": {
  "kernelspec": {
   "display_name": "Python 3",
   "language": "python",
   "name": "python3"
  },
  "language_info": {
   "codemirror_mode": {
    "name": "ipython",
    "version": 3
   },
   "file_extension": ".py",
   "mimetype": "text/x-python",
   "name": "python",
   "nbconvert_exporter": "python",
   "pygments_lexer": "ipython3",
   "version": "3.6.4"
  }
 },
 "nbformat": 4,
 "nbformat_minor": 2
}
